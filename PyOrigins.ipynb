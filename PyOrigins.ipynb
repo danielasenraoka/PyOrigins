{
 "cells": [
  {
   "cell_type": "code",
   "execution_count": 3,
   "id": "b9cb6f88-3af8-4b26-879d-c6348426c28f",
   "metadata": {},
   "outputs": [],
   "source": [
    "import csv\n",
    "import numpy as np\n",
    "import math\n",
    "from numpy import array\n",
    "import pandas as pd\n",
    "import time"
   ]
  },
  {
   "cell_type": "markdown",
   "id": "2377e18a-0bb4-41ce-9c0b-d0ed7826dc51",
   "metadata": {},
   "source": [
    "## Auxiliary functions"
   ]
  },
  {
   "cell_type": "code",
   "execution_count": 4,
   "id": "a1615ab1-0502-4afb-8399-7b39089f21e0",
   "metadata": {},
   "outputs": [],
   "source": [
    "def read_tabular_file(file_path):\n",
    "    data = []\n",
    "    \n",
    "    try:\n",
    "        with open(file_path, 'r') as file:\n",
    "            for line in file:\n",
    "                elements = line.strip().split('\\t')\n",
    "                string_value = elements[0]\n",
    "                array_value = elements[1:-1]\n",
    "                    \n",
    "                data.append((string_value, array_value))\n",
    "\n",
    "    except FileNotFoundError:\n",
    "        print(\"File not found.\")\n",
    "    \n",
    "    return data"
   ]
  },
  {
   "cell_type": "markdown",
   "id": "3bce3594-b16a-40d9-98a5-5b641cf78ab3",
   "metadata": {
    "tags": []
   },
   "source": [
    "## File paths\n",
    "\n",
    "* gene_sets_file: txt file with gene set IDs and gene lists (tab delimited). For example see `files/gene_sets_example.txt`.\n",
    "* full_human_ppin: full human PPIN data, the file is in `file/edges_2021.dat`.\n",
    "* exp_mat_file: expression matrix with gene_id as row names and cell_id as col names (tab delimeted)."
   ]
  },
  {
   "cell_type": "code",
   "execution_count": 5,
   "id": "ef8cf74c-39e4-4863-9c53-ac15b4728876",
   "metadata": {},
   "outputs": [],
   "source": [
    "gene_sets_file = \"./files/gene_sets.txt\" \n",
    "exp_mat_file = './files/expression_matrix.txt'\n",
    "full_human_ppin_file = './files/edges_2021.dat'"
   ]
  },
  {
   "cell_type": "markdown",
   "id": "aa2ef465-7a2b-47c1-8846-2a1a88d7c116",
   "metadata": {},
   "source": [
    "## Read expression matrix"
   ]
  },
  {
   "cell_type": "code",
   "execution_count": 6,
   "id": "a1f228be-0ed1-451a-9d1f-20f53a528deb",
   "metadata": {},
   "outputs": [],
   "source": [
    "genes=[]\n",
    "exp_matrix=[]\n",
    "\n",
    "with open(exp_mat_file, 'r') as ff:\n",
    "    readon = csv.reader(ff, delimiter='\\t')\n",
    "    headers = next(readon)\n",
    "    for filas in readon:\n",
    "        genes.append(filas[0]) #gene_list\n",
    "        numfl=[float(x) for x in filas[1:]]\n",
    "        exp_matrix.append(numfl) # NgenesxNcells expresion matrix\n",
    "\n",
    "exp_matrix_t=np.transpose(exp_matrix) # NcellsxNgenes\n",
    "\n",
    "genes_original = genes.copy() #original exp_mat order"
   ]
  },
  {
   "cell_type": "markdown",
   "id": "f3596139-c970-467f-b506-795a9aa7e167",
   "metadata": {
    "tags": []
   },
   "source": [
    "Read gene sets to build the associated PPINs"
   ]
  },
  {
   "cell_type": "code",
   "execution_count": 7,
   "id": "2e85ff20-e457-48b0-85e3-87e936775ba2",
   "metadata": {
    "tags": []
   },
   "outputs": [],
   "source": [
    "gene_sets_tab = read_tabular_file(gene_sets_file)\n",
    "gene_sets_df = pd.DataFrame(gene_sets_tab, columns=[\"ID\", \"gene_list\"])"
   ]
  },
  {
   "cell_type": "code",
   "execution_count": 8,
   "id": "67007ea5-5175-4b16-8bcb-42876d32925c",
   "metadata": {
    "tags": []
   },
   "outputs": [],
   "source": [
    "n_processes = []\n",
    "\n",
    "for gene_set in gene_sets_df['gene_list']:\n",
    "    n_genes = len(list(set(gene_set)))\n",
    "    n_processes.append(n_genes)\n",
    "genes_subsets_df = gene_sets_df.copy()\n",
    "genes_subsets_df['N_processes'] = n_processes"
   ]
  },
  {
   "cell_type": "markdown",
   "id": "cb514e9c-7fb5-47a1-82bc-7b65b43d3468",
   "metadata": {},
   "source": [
    "Subset genes in processes belonging to gene list from the expression matrix"
   ]
  },
  {
   "cell_type": "code",
   "execution_count": 9,
   "id": "ebf9ee28-9d8d-4a8f-8d99-ab86e87e5a1d",
   "metadata": {},
   "outputs": [],
   "source": [
    "new_gene_list = []\n",
    "\n",
    "for gene_set in gene_sets_df['gene_list']:\n",
    "    gene_set_subset = list(set(gene_set) & set(genes))\n",
    "    new_gene_list.append(gene_set_subset)\n",
    "\n",
    "genes_subsets_df['gene_list'] = new_gene_list\n",
    "genes_subsets_df['gs_index'] = list(genes_subsets_df.index)"
   ]
  },
  {
   "cell_type": "markdown",
   "id": "6603caff-fbbf-4f6b-8ad0-4086ade04cfd",
   "metadata": {},
   "source": [
    "Remove processes with less or eq than X genes"
   ]
  },
  {
   "cell_type": "code",
   "execution_count": 10,
   "id": "4ed25c6b-715c-4bb2-b968-fad67ebd7ad1",
   "metadata": {
    "tags": []
   },
   "outputs": [],
   "source": [
    "genes_subsets_df = genes_subsets_df[genes_subsets_df['gene_list'].apply(len) > 5]\n",
    "index = genes_subsets_df.columns[-1:].append(genes_subsets_df.columns[:-1])\n",
    "final_df = genes_subsets_df[index]\n",
    "s = pd.Series(final_df['gene_list'])\n",
    "gene_list_final = s.tolist()\n",
    "sorted_gene_list = [sorted(inner_list) for inner_list in gene_list_final]\n",
    "genes.sort()\n",
    "\n",
    "# Select genes sets with more than X genes\n",
    "go_bp_id_df = final_df[['ID', 'gs_index']]"
   ]
  },
  {
   "cell_type": "markdown",
   "id": "4d94c168-6c0f-4444-b632-a776522e63bd",
   "metadata": {
    "tags": []
   },
   "source": [
    "## Load full PPIN"
   ]
  },
  {
   "cell_type": "code",
   "execution_count": 11,
   "id": "b56620b8-6e2f-4255-b10c-4754826407d4",
   "metadata": {
    "tags": []
   },
   "outputs": [],
   "source": [
    "full_human_ppin = pd.read_csv(full_human_ppin_file, sep='\\\\t', header=None, engine='python')\n",
    "mat = full_human_ppin.to_numpy(dtype=str).tolist()\n",
    "\n",
    "lengths_list = [len(sublist) for sublist in sorted_gene_list]\n",
    "go_bp = final_df['ID'].tolist()"
   ]
  },
  {
   "cell_type": "markdown",
   "id": "c00b4c44-d1d7-4520-bef4-9402bcbace27",
   "metadata": {},
   "source": [
    "# Compute activity"
   ]
  },
  {
   "cell_type": "code",
   "execution_count": null,
   "id": "f6d7498a-6d34-4c4c-a15c-45f6a0cbbdd3",
   "metadata": {
    "tags": []
   },
   "outputs": [],
   "source": [
    "wfile = open('./activities.txt', 'a')\n",
    "\n",
    "wfile.write('\\t'.join(headers) + '\\n')\n",
    "\n",
    "kk=0\n",
    "while kk < len(sorted_gene_list):\n",
    "    wfile.writelines(go_bp[kk] + \"\\t\")\n",
    "    sel1=[]\n",
    "    for gen in sorted_gene_list[kk]:\n",
    "        sel1=sel1+[x for x in mat if gen in x[0]]\n",
    "\n",
    "    sel2=[]\n",
    "    for gen in sorted_gene_list[kk]:\n",
    "        sel2=sel2+[x for x in sel1 if gen in x[1]]\n",
    "\n",
    "    lst=[]\n",
    "    num=0\n",
    "    for gg in range(len(genes_original)):\n",
    "        pos=[]\n",
    "        i=0\n",
    "        while i < len(sel2):\n",
    "            if sel2[i][0] == genes_original[gg]:\n",
    "                pos=pos+[sel2[i][1]]\n",
    "            i=i+1\n",
    "\n",
    "        nl=len(pos)\n",
    "        if nl>0:\n",
    "\n",
    "            for k in pos:\n",
    "                try:\n",
    "                    lst=lst+[[gg,genes_original.index(k)]]\n",
    "                    num=num+1\n",
    "                except:\n",
    "                    continue\n",
    "        \n",
    "# remove duplicated\n",
    "    if (1.0*len(lst))/(1.0*lengths_list[kk]) > 1:\n",
    "        edges = [] \n",
    "        for i in lst:\n",
    "            if [i[1],i[0]] not in edges:\n",
    "                edges.append(i) \n",
    "\n",
    "        lon=len(edges)\n",
    "        for celu in exp_matrix_t:\n",
    "            activ=0.0\n",
    "            meancel=np.mean(celu) \n",
    "            for i in range(lon):\n",
    "                activ=activ+celu[edges[i][0]]*celu[edges[i][1]]\n",
    "            \n",
    "            wfile.writelines(str(activ/(lon*meancel))[0:5]+\"\\t\") #normalize\n",
    "\n",
    "        wfile.writelines(\"\\n\")\n",
    "    kk=kk+1\n",
    "wfile.close() "
   ]
  }
 ],
 "metadata": {
  "kernelspec": {
   "display_name": "Python 3 (ipykernel)",
   "language": "python",
   "name": "python3"
  },
  "language_info": {
   "codemirror_mode": {
    "name": "ipython",
    "version": 3
   },
   "file_extension": ".py",
   "mimetype": "text/x-python",
   "name": "python",
   "nbconvert_exporter": "python",
   "pygments_lexer": "ipython3",
   "version": "3.11.4"
  }
 },
 "nbformat": 4,
 "nbformat_minor": 5
}
